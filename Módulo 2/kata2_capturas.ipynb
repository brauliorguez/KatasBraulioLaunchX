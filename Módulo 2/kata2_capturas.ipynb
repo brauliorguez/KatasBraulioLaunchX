{
 "cells": [
  {
   "cell_type": "markdown",
   "metadata": {},
   "source": [
    "# _Proceso para la creacion de un entorno virtual_"
   ]
  },
  {
   "cell_type": "markdown",
   "metadata": {},
   "source": [
    "### Crear un entorno virtual\n",
    "<p> Creamos nuestro entorno virtual denominado <b>env_kata2</b> con el comando <i>pyhton -m venv {nombre}</i> </p>\n",
    "\n",
    "![Creación de entorno virtual](./img/creacion_entorno.png)\n"
   ]
  },
  {
   "cell_type": "markdown",
   "metadata": {},
   "source": [
    "### Activación de entonrno virtual\n",
    "<p> Una vez creado nuestro entorno virtual:<b>env_kata2</b> procedemos a activarlo, en mi caso el comando necesario para activarlo es <i>{nombre}/Scripts/activate</i>  a continuación una captura del comando:</p>\n",
    "\n",
    "![Activación de mi entorno virtual](./img/activacion_entorno.png)"
   ]
  },
  {
   "cell_type": "markdown",
   "metadata": {},
   "source": [
    "### Activación exitosa de mi entorno Virtual\n",
    "<p> Una vez ejecutado el comando de activacion de nuestro entorno:<b>env_kata2</b> se muestra en la terminal al inicio de la ruta de <i>(env_kata2) </i>C:User/nombre...</p>\n",
    "\n",
    "![Activación exitosa](./img/activacion_exitosa.png)\n",
    "\n",
    "<p> Esto indica que la activación del entorno fue <b> Exitosa </b> </p>"
   ]
  },
  {
   "cell_type": "markdown",
   "metadata": {},
   "source": [
    "### Instalación de una biblioteca\n",
    "<p> Para verificar los paquetes instalados utilizaremos el comando <b> pip freeze </b>, este comando mostrará todos los paquetes instalados localmente en el lugar donde nos ubiquemos esto incluye a nuestros entornos virtuales cabe destacar que este no toma encuenta los paquetes: pip, wheel, setuptools. \n",
    "\n",
    "![Ejecución de comando pip freeze](./img/pip-freeze.png)\n",
    "\n",
    "<p> Como se muestra en la captura de arriba no muestra directamente algun paquete instalado en nuestro entorno, ahora ejecutamos un comando denominado: <b> pip list </b> este comando si mostrara todos los paquetes sin omitir ningun tipo. </p>\n",
    "\n",
    "![Ejecución de comando pip freeze](./img/pip-list.png)\n",
    "\n",
    "<p> Ahora instalaremos un paquete por medio del comando <b>pip install</b> procederemos a instalar el paquete: <i>python-dateutil </i>.\n",
    "\n",
    "![Instalación de paqute](./img/instalacion_paquete.png)\n",
    "\n",
    "<p> Una vez instalado el paquete, al finalizar nos informara en la terminal con el siguiente mensaje: Succesfully </p>\n",
    "\n",
    "![Paquete instalado](./img/paquete-instalado.png)\n",
    "\n",
    "<b> Verificamos los paquetes actuales en nuestro entorno virtual</b>\n",
    "<p> Como se mostro al princio, para verificar los paquetes que están instalados en nuestro respositorio utilizamos el comando <i> pip freeze </i>.\n",
    "\n",
    "![Nuevos paquetes](./img/paquetes-actualez.png)\n",
    "\n",
    "<p> Como se muestra seguimos en nuestro entorno: <b> env-kata2 </b> y se observa que existen nuevos paquetes instalados. "
   ]
  },
  {
   "cell_type": "markdown",
   "metadata": {},
   "source": [
    "### Desactivar un entorno virtual\n",
    "<p> Una parte importante que es bueno recordar un entorno virtual nos permite aislar nuestros proyectos de python de nuestra instalacion raiz, es decir nos permite manejar distintos entornos con distintos paquetes instalados, esto permite tener diferentes versiones de <b> python y de paquetes </b>.\n",
    "<p> Para desactivar un entorno simplemennte ejecutamos el comando: <b>deactivate</b>\n",
    "\n",
    "![Desactivar repositorio](./img/deactivate.png)\n",
    "\n",
    "Como se muestra, cambiamos de (name_env) a C:/USER/... debido a que salimos del entorno virtual y regresamos a la ubicación habitual.\n"
   ]
  }
 ],
 "metadata": {
  "language_info": {
   "name": "python"
  },
  "orig_nbformat": 4
 },
 "nbformat": 4,
 "nbformat_minor": 2
}
